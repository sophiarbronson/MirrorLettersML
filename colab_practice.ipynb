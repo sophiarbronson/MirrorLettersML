{
  "nbformat": 4,
  "nbformat_minor": 0,
  "metadata": {
    "colab": {
      "name": "hw_python_colab_practice_01_2.ipynb",
      "version": "0.3.2",
      "provenance": [],
      "collapsed_sections": [
        "dfJm0WdG9aOt",
        "X7H-BBYP9aOw",
        "v7dNx4BH9aOx",
        "ZT-In9O-9aO0",
        "0AayTlHg9aO1",
        "VVAbYc8A9aO3",
        "tgsXw-of9aO5",
        "7BMv__Bn9aO7",
        "a8PZfHQf9aO9",
        "4u2k8Bfu9aO-",
        "Ufu6O4Rb9aO_",
        "HktpYA6z9aO_",
        "T512nQK99aPB",
        "pl597b5A9aPC",
        "MzlVi4z99aPC",
        "bqvp_y7t9aPD",
        "aOhX95lJ9aPE",
        "WtQfT23t9aPF",
        "j2Nz6_U_9aPF",
        "gnN46TgJ9aPG",
        "yFgzMxeY9aPH",
        "SE9ZwnNg9aPH",
        "fQM7nfyL9aPI",
        "rBKgwWl49aPI",
        "F8mmZJYO9aPK",
        "_bzTffjy9aPK",
        "TlsbydXG9aPL",
        "MPI0YkRD9aPL",
        "_lPrN4J69aPN",
        "1ize_hT99aPN",
        "y-QR5Q5N9aPO",
        "ucizI5iX9aPP",
        "Kl-VmeEi9aPP",
        "N64CS7fN9aPQ",
        "YTsjswi69aPR",
        "aelsYwsM9aPT",
        "kbKlhZVp9aPT"
      ]
    },
    "kernelspec": {
      "display_name": "Python 3",
      "language": "python",
      "name": "python3"
    },
    "language_info": {
      "codemirror_mode": {
        "name": "ipython",
        "version": 3
      },
      "file_extension": ".py",
      "mimetype": "text/x-python",
      "name": "python",
      "nbconvert_exporter": "python",
      "pygments_lexer": "ipython3",
      "version": "3.7.4"
    }
  },
  "cells": [
    {
      "cell_type": "markdown",
      "metadata": {
        "colab_type": "text",
        "id": "MTj_EmGl9aOQ"
      },
      "source": [
        "# Homework 0"
      ]
    },
    {
      "cell_type": "markdown",
      "metadata": {
        "colab_type": "text",
        "id": "LbaoVgsg9aOR"
      },
      "source": [
        "## 1. Introduction"
      ]
    },
    {
      "cell_type": "markdown",
      "metadata": {
        "colab_type": "text",
        "id": "ilKnqQbU9aOS"
      },
      "source": [
        "Throughout this course, we will heavily rely on the NumPy \n",
        "\n",
        "The first library of interest is NumPy.\n",
        "\n",
        "> NumPy is the fundamental package for scientific computing with Python. It contains among other things:\n",
        ">\n",
        "> - a powerful N-dimensional array object\n",
        "> - sophisticated (broadcasting) functions\n",
        "> - tools for integrating C/C++ and Fortran code\n",
        "> - useful linear algebra, Fourier transform, and random number capabilities\n",
        "> \n",
        "> Besides its obvious scientific uses, NumPy can also be used as an efficient multi-dimensional container of generic data. Arbitrary data-types can be defined. This allows NumPy to seamlessly and speedily integrate with a wide variety of databases.\n",
        ">\n",
        "> —*[About NumPy](http://www.numpy.org/)*\n",
        "\n"
      ]
    },
    {
      "cell_type": "code",
      "metadata": {
        "colab_type": "code",
        "id": "8DtAT8zA9aOT",
        "colab": {}
      },
      "source": [
        "import numpy as np\n",
        "import os\n",
        "import time"
      ],
      "execution_count": 0,
      "outputs": []
    },
    {
      "cell_type": "markdown",
      "metadata": {
        "colab_type": "text",
        "id": "mJILxT2v9aOX"
      },
      "source": [
        "---"
      ]
    },
    {
      "cell_type": "markdown",
      "metadata": {
        "colab_type": "text",
        "id": "5jv5YYZU9aOY"
      },
      "source": [
        "## 2. Vectorization\n",
        "\n",
        "Lists are a foundational data structure in Python, allowing us to create simple and complex algorithms to solve problems. However, in mathematics and particularly in linear algebra, we work with vectors and matrices to model problems and create statistical solutions. Through these exercises, we will begin introducing you to how to think more mathematically through the use of NumPy by starting with a process known as vectorization.\n",
        "\n",
        "Index chasing is a very valuable skill, and certainly one you will need in this course, but mathematical problems often have simpler and more efficient representations that use vectors. The process of converting from an implimentation that uses indicies to one that uses vectors is known as vectorization. Once vectorized, the resulting implimentation often yields to the user faster and more readable code than before.\n",
        "\n",
        "In the following problems, we will ask you to practice reading mathematical expressions and deduce their vectorized equivalent along with their implimentation in Python. You will use the NumPy array object as the Python equivalent to a vector, and in later sections you will work with sets of vectors known as matrices."
      ]
    },
    {
      "cell_type": "markdown",
      "metadata": {
        "colab_type": "text",
        "id": "cVfqI9IQ9aOZ"
      },
      "source": [
        "---"
      ]
    },
    {
      "cell_type": "markdown",
      "metadata": {
        "colab_type": "text",
        "id": "pGhTUUoX9aOa"
      },
      "source": [
        "### 2.1 Dot Product\n",
        "\n",
        "In this task, you will implement the dot product function for numpy arrays.\n",
        "\n",
        "$$x = [x_1 x_2 \\cdots x_n] $$\n",
        "\n",
        "$$y = [y_1 y_2 \\cdots y_n] $$\n",
        "The dot product (also known as the scalar product or inner product) is the linear combination of the n real components of two vectors.\n",
        "\n",
        "$$x \\cdot y = x_1 y_1 + x_2 y_2 + \\cdots + x_n y_n$$\n",
        "\n",
        "**Your Task**: Implement the function `dot`."
      ]
    },
    {
      "cell_type": "code",
      "metadata": {
        "colab_type": "code",
        "id": "8MzLB4TS9aOb",
        "colab": {}
      },
      "source": [
        "def inefficient_dot(x, y):\n",
        "    \"\"\"\n",
        "    Inefficient dot product of two arrays.\n",
        "\n",
        "    Parameters: \n",
        "    x (numpy.ndarray): 1-dimensional numpy array.\n",
        "    y (numpy.ndarray): 1-dimensional numpy array.\n",
        "\n",
        "    Returns: \n",
        "    numpy.int64: scalar quantity.\n",
        "    \"\"\"    \n",
        "    assert(len(x) == len(y))\n",
        "    \n",
        "    result = 0\n",
        "    for i in range(len(x)):\n",
        "        result += x[i]*y[i]\n",
        "        \n",
        "    return result"
      ],
      "execution_count": 0,
      "outputs": []
    },
    {
      "cell_type": "code",
      "metadata": {
        "colab_type": "code",
        "id": "SxR18xSI9aOe",
        "colab": {}
      },
      "source": [
        "def dot(x, y):\n",
        "    \"\"\"\n",
        "    Dot product of two arrays.\n",
        "\n",
        "    Parameters: \n",
        "    x (numpy.ndarray): 1-dimensional numpy array.\n",
        "    y (numpy.ndarray): 1-dimensional numpy array.\n",
        "\n",
        "    Returns: \n",
        "    numpy.int64: scalar quantity.\n",
        "    \"\"\"\n",
        "\n",
        "    return NotImplemented"
      ],
      "execution_count": 0,
      "outputs": []
    },
    {
      "cell_type": "markdown",
      "metadata": {
        "colab_type": "text",
        "id": "SP-HonpS9aOh"
      },
      "source": [
        "#### Test Example:"
      ]
    },
    {
      "cell_type": "code",
      "metadata": {
        "colab_type": "code",
        "id": "eFthUDOS9aOi",
        "outputId": "181d6f50-b96e-4533-f673-8fe240f3cadc",
        "colab": {
          "base_uri": "https://localhost:8080/",
          "height": 34
        }
      },
      "source": [
        "np.random.seed(0)\n",
        "X = np.random.randint(-1000, 1000, size=3000)\n",
        "Y = np.random.randint(-1000, 1000, size=3000)\n",
        "\n",
        "print(dot(X,Y))"
      ],
      "execution_count": 0,
      "outputs": [
        {
          "output_type": "stream",
          "text": [
            "NotImplemented\n"
          ],
          "name": "stdout"
        }
      ]
    },
    {
      "cell_type": "markdown",
      "metadata": {
        "colab_type": "text",
        "id": "2SnpSgPd9aOl"
      },
      "source": [
        "**Expected Output**: \n",
        "<table style = \"align:40%\">\n",
        "    <tr>\n",
        "        <td style=\"text-align:left;\"><tt><b> dot(X,Y) </b></tt></td> \n",
        "        <td style=\"text-align:left;\"><tt> 7082791 </tt></td> \n",
        "    </tr>\n",
        "</table>"
      ]
    },
    {
      "cell_type": "markdown",
      "metadata": {
        "colab_type": "text",
        "id": "KOktR2Rw9aOm"
      },
      "source": [
        "---"
      ]
    },
    {
      "cell_type": "markdown",
      "metadata": {
        "colab_type": "text",
        "id": "D6rfDbI69aOn"
      },
      "source": [
        "### 2.2 Outer Product\n",
        "\n",
        "In this task, you will implement the outer product function for numpy arrays.\n",
        "\n",
        "The outer product (also known as the tensor product) of vectors x and y is defined as\n",
        "\n",
        "$$\n",
        "x \\otimes y =\n",
        "\\begin{bmatrix}\n",
        "x_1 y_1 & x_1 y_2 & … & x_1 y_n\\\\\n",
        "x_2 y_1 & x_2 y_2 & … & x_2 y_n\\\\\n",
        "⋮ & ⋮ & ⋱ & ⋮ \\\\\n",
        "x_m y_1 & x_m y_2 & … & x_m y_n\n",
        "\\end{bmatrix}\n",
        "$$\n",
        "\n",
        "**Your Task**: Implement the function `outer`.\n"
      ]
    },
    {
      "cell_type": "code",
      "metadata": {
        "colab_type": "code",
        "id": "XUsgJ7O69aOn",
        "colab": {}
      },
      "source": [
        "def inefficient_outer(x, y):\n",
        "    \"\"\"\n",
        "    Inefficiently compute the outer product of two vectors.\n",
        "\n",
        "    Parameters: \n",
        "    x (numpy.ndarray): 1-dimensional numpy array.\n",
        "    y (numpy.ndarray): 1-dimensional numpy array.\n",
        "\n",
        "    Returns: \n",
        "    numpy.ndarray: 2-dimensional numpy array.\n",
        "    \"\"\"\n",
        "    result = np.zeros((len(x), len(y))) \n",
        "    for i in range(len(x)):\n",
        "        for j in range(len(y)):\n",
        "            result[i, j] = x[i]*y[j]\n",
        "    \n",
        "    return result"
      ],
      "execution_count": 0,
      "outputs": []
    },
    {
      "cell_type": "code",
      "metadata": {
        "colab_type": "code",
        "id": "3vdDYa2Q9aOp",
        "colab": {}
      },
      "source": [
        "def outer(x, y):\n",
        "    \"\"\"\n",
        "    Compute the outer product of two vectors.\n",
        "\n",
        "    Parameters: \n",
        "    x (numpy.ndarray): 1-dimensional numpy array.\n",
        "    y (numpy.ndarray): 1-dimensional numpy array.\n",
        "\n",
        "    Returns: \n",
        "    numpy.ndarray: 2-dimensional numpy array.\n",
        "    \"\"\"\n",
        "\n",
        "    return NotImplemented"
      ],
      "execution_count": 0,
      "outputs": []
    },
    {
      "cell_type": "markdown",
      "metadata": {
        "colab_type": "text",
        "id": "gqXaD7W59aOq"
      },
      "source": [
        "#### Test Example:"
      ]
    },
    {
      "cell_type": "code",
      "metadata": {
        "colab_type": "code",
        "id": "yaptx_-I9aOq",
        "outputId": "8f24a1f7-fca1-4a4e-ff40-7b687601e406",
        "colab": {
          "base_uri": "https://localhost:8080/",
          "height": 34
        }
      },
      "source": [
        "np.random.seed(0)\n",
        "X = np.random.randint(-1000, 1000, size=3000)\n",
        "Y = np.random.randint(-1000, 1000, size=3000)\n",
        "\n",
        "print(outer(X,Y))"
      ],
      "execution_count": 0,
      "outputs": [
        {
          "output_type": "stream",
          "text": [
            "NotImplemented\n"
          ],
          "name": "stdout"
        }
      ]
    },
    {
      "cell_type": "markdown",
      "metadata": {
        "colab_type": "text",
        "id": "biQJsDD_9aOs"
      },
      "source": [
        "**Expected Output**: \n",
        "<table style = \"align:40%\">\n",
        "    <tr>\n",
        "        <td style=\"text-align:left;\"><tt><b> outer(X,Y) </b></tt></td> \n",
        "        <td style=\"text-align:left;\"><tt> \n",
        "            [[&nbsp;&nbsp;59092&nbsp;-144096&nbsp;&nbsp;136512&nbsp;...&nbsp;&nbsp;-53088&nbsp;&nbsp;-86268&nbsp;&nbsp;&nbsp;53404] <br>\n",
        "            &nbsp;[&nbsp;&nbsp;82467&nbsp;-201096&nbsp;&nbsp;190512&nbsp;...&nbsp;&nbsp;-74088&nbsp;-120393&nbsp;&nbsp;&nbsp;74529] <br>\n",
        "            &nbsp;[-122111&nbsp;&nbsp;297768&nbsp;-282096&nbsp;...&nbsp;&nbsp;109704&nbsp;&nbsp;178269&nbsp;-110357] <br>\n",
        "            &nbsp;... <br>\n",
        "            &nbsp;[-144551&nbsp;&nbsp;352488&nbsp;-333936&nbsp;...&nbsp;&nbsp;129864&nbsp;&nbsp;211029&nbsp;-130637] <br>\n",
        "            &nbsp;[-179707&nbsp;&nbsp;438216&nbsp;-415152&nbsp;...&nbsp;&nbsp;161448&nbsp;&nbsp;262353&nbsp;-162409] <br>\n",
        "            &nbsp;[&nbsp;&nbsp;88825&nbsp;-216600&nbsp;&nbsp;205200&nbsp;...&nbsp;&nbsp;-79800&nbsp;-129675&nbsp;&nbsp;&nbsp;80275]] <br>\n",
        "        </tt></td> \n",
        "    </tr>\n",
        "</table>"
      ]
    },
    {
      "cell_type": "markdown",
      "metadata": {
        "colab_type": "text",
        "id": "VETDNFUO9aOt"
      },
      "source": [
        "---"
      ]
    },
    {
      "cell_type": "markdown",
      "metadata": {
        "colab_type": "text",
        "id": "dfJm0WdG9aOt"
      },
      "source": [
        "### 2.3 Hadamard Product\n",
        "\n",
        "In this task, you will implement the Hadamard product function, `multiply`, for numpy arrays.\n",
        "\n",
        "The Hadamard product (also known as the Schur product or entrywise product) of vectors x and y is defined as\n",
        "\n",
        "$$\n",
        "x \\circ y =\n",
        "\\begin{bmatrix}\n",
        "x_{1} y_{1} & x_{2} y_{2} & … & x_{n} y_{n}\n",
        "\\end{bmatrix}\n",
        "$$\n",
        "\n",
        "**Your Task**: Implement the function `multiply`."
      ]
    },
    {
      "cell_type": "code",
      "metadata": {
        "colab_type": "code",
        "id": "hYwQh2aa9aOu",
        "colab": {}
      },
      "source": [
        "def inefficient_multiply(x, y):\n",
        "    \"\"\"\n",
        "    Inefficiently multiply arguments element-wise.\n",
        "\n",
        "    Parameters: \n",
        "    x (numpy.ndarray): 1-dimensional numpy array.\n",
        "    y (numpy.ndarray): 1-dimensional numpy array.\n",
        "\n",
        "    Returns: \n",
        "    numpy.ndarray: 1-dimensional numpy array.\n",
        "    \"\"\"\n",
        "    assert(len(x) == len(y))\n",
        "    \n",
        "    result = np.zeros(len(x))\n",
        "    for i in range(len(x)):\n",
        "        result[i] = x[i]*y[i]\n",
        "    \n",
        "    return result"
      ],
      "execution_count": 0,
      "outputs": []
    },
    {
      "cell_type": "code",
      "metadata": {
        "colab_type": "code",
        "id": "zAeltTMT9aOv",
        "colab": {}
      },
      "source": [
        "def multiply(x, y):\n",
        "    \"\"\"\n",
        "    Multiply arguments element-wise.\n",
        "\n",
        "    Parameters: \n",
        "    x (numpy.ndarray): 1-dimensional numpy array.\n",
        "    y (numpy.ndarray): 1-dimensional numpy array.\n",
        "\n",
        "    Returns: \n",
        "    numpy.ndarray: 1-dimensional numpy array.\n",
        "    \"\"\"\n",
        "\n",
        "    return NotImplemented"
      ],
      "execution_count": 0,
      "outputs": []
    },
    {
      "cell_type": "markdown",
      "metadata": {
        "colab_type": "text",
        "id": "X7H-BBYP9aOw"
      },
      "source": [
        "#### Test Example:"
      ]
    },
    {
      "cell_type": "code",
      "metadata": {
        "colab_type": "code",
        "id": "KcZbqOSd9aOw",
        "outputId": "ba0c6b90-4467-4a68-aeb3-b43c356cc2ab",
        "colab": {
          "base_uri": "https://localhost:8080/",
          "height": 54
        }
      },
      "source": [
        "np.random.seed(0)\n",
        "X = np.random.randint(-1000, 1000, size=3000)\n",
        "Y = np.random.randint(-1000, 1000, size=3000)\n",
        "\n",
        "print(multiply(X,Y))"
      ],
      "execution_count": 0,
      "outputs": [
        {
          "output_type": "stream",
          "text": [
            "NotImplemented\n"
          ],
          "name": "stdout"
        }
      ]
    },
    {
      "cell_type": "markdown",
      "metadata": {
        "colab_type": "text",
        "id": "xFmC52Q79aOx"
      },
      "source": [
        "**Expected Output**: \n",
        "<table style = \"align:40%\">\n",
        "    <tr>\n",
        "        <td style=\"text-align:left;\"><tt><b> multiply(X,Y) </b></tt></td> \n",
        "        <td style=\"text-align:left;\"><tt>\n",
        "            [&nbsp;&nbsp;59092&nbsp;-201096&nbsp;-282096&nbsp;...&nbsp;&nbsp;129864&nbsp;&nbsp;262353&nbsp;&nbsp;&nbsp;80275]\n",
        "        </tt></td> \n",
        "    </tr>\n",
        "</table>"
      ]
    },
    {
      "cell_type": "markdown",
      "metadata": {
        "colab_type": "text",
        "id": "HaeB2ta59aOx"
      },
      "source": [
        "---"
      ]
    },
    {
      "cell_type": "markdown",
      "metadata": {
        "colab_type": "text",
        "id": "v7dNx4BH9aOx"
      },
      "source": [
        "### 2.4 Sum-Product\n",
        "In this task, you will implement the sum-product function for numpy arrays.\n",
        "\n",
        "The sum-product of vectors x and y, each with n real component, is defined as \n",
        "\n",
        "$$\n",
        "f(x, y) = \n",
        "{\n",
        "\\begin{bmatrix}\n",
        "1\\\\\n",
        "1\\\\\n",
        "⋮\\\\\n",
        "1\n",
        "\\end{bmatrix}^{\\;T}\n",
        "%\n",
        "\\begin{bmatrix}\n",
        "x_1 y_1 & x_1 y_2 & … & x_1 y_n\\\\\n",
        "x_2 y_1 & x_2 y_2 & … & x_2 y_n\\\\\n",
        "⋮ & ⋮ & ⋱ & ⋮ \\\\\n",
        "x_m y_1 & x_m y_2 & … & x_m y_n\n",
        "\\end{bmatrix}\n",
        "%\n",
        "\\begin{bmatrix}\n",
        "1\\\\\n",
        "1\\\\\n",
        "⋮\\\\\n",
        "1\n",
        "\\end{bmatrix}\n",
        "} = \n",
        "\\displaystyle\\sum_{i=1}^{n} \\displaystyle\\sum_{j=1}^{n} x_i \\cdot y_j\n",
        "$$\n",
        "\n",
        "**Your Task**: Implement the function `sumproduct`.\n"
      ]
    },
    {
      "cell_type": "code",
      "metadata": {
        "colab_type": "code",
        "id": "rjwoTv049aOy",
        "colab": {}
      },
      "source": [
        "def inefficient_sumproduct(x, y):\n",
        "    \"\"\"\n",
        "    Inefficiently sum over all the dimensions of the outer product \n",
        "    of two vectors.\n",
        "\n",
        "    Parameters: \n",
        "    x (numpy.ndarray): 1-dimensional numpy array.\n",
        "    y (numpy.ndarray): 1-dimensional numpy array.\n",
        "\n",
        "    Returns: \n",
        "    numpy.int64: scalar quantity.\n",
        "    \"\"\"\n",
        "    assert(len(x) == len(y))\n",
        "    \n",
        "    result = 0\n",
        "    for i in range(len(x)):\n",
        "        for j in range(len(y)):\n",
        "            result += x[i] * y[j]\n",
        "            \n",
        "    return result"
      ],
      "execution_count": 0,
      "outputs": []
    },
    {
      "cell_type": "code",
      "metadata": {
        "colab_type": "code",
        "id": "kqc2OSg39aOz",
        "colab": {}
      },
      "source": [
        "def sumproduct(x, y):\n",
        "    \"\"\"\n",
        "    Sum over all the dimensions of the outer product of two vectors.\n",
        "\n",
        "    Parameters: \n",
        "    x (numpy.ndarray): 1-dimensional numpy array.\n",
        "    y (numpy.ndarray): 1-dimensional numpy array.\n",
        "\n",
        "    Returns: \n",
        "    numpy.int64: scalar quantity.\n",
        "    \"\"\"\n",
        "\n",
        "    return NotImplemented"
      ],
      "execution_count": 0,
      "outputs": []
    },
    {
      "cell_type": "markdown",
      "metadata": {
        "colab_type": "text",
        "id": "ZT-In9O-9aO0"
      },
      "source": [
        "#### Test Example:"
      ]
    },
    {
      "cell_type": "code",
      "metadata": {
        "colab_type": "code",
        "id": "9l17vEuf9aO0",
        "outputId": "3b0087dc-c0f4-4e2c-e6fa-c8a656d31994",
        "colab": {
          "base_uri": "https://localhost:8080/",
          "height": 54
        }
      },
      "source": [
        "np.random.seed(0)\n",
        "X = np.random.randint(-1000, 1000, size=3000)\n",
        "Y = np.random.randint(-1000, 1000, size=3000)\n",
        "\n",
        "print(sumproduct(X,Y))"
      ],
      "execution_count": 0,
      "outputs": [
        {
          "output_type": "stream",
          "text": [
            "NotImplemented\n"
          ],
          "name": "stdout"
        }
      ]
    },
    {
      "cell_type": "markdown",
      "metadata": {
        "colab_type": "text",
        "id": "gfAB9S809aO1"
      },
      "source": [
        "**Expected Output**: \n",
        "<table style = \"align:40%\">\n",
        "    <tr>\n",
        "        <td style=\"text-align:left;\"><tt><b> sumproduct(X,Y) </b></tt></td> \n",
        "        <td style=\"text-align:left;\"><tt> 265421520 </tt></td> \n",
        "    </tr>\n",
        "</table>"
      ]
    },
    {
      "cell_type": "markdown",
      "metadata": {
        "colab_type": "text",
        "id": "u0EqX-lS9aO1"
      },
      "source": [
        "---"
      ]
    }
  ]
}